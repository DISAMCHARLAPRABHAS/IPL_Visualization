{
  "nbformat": 4,
  "nbformat_minor": 0,
  "metadata": {
    "colab": {
      "provenance": [],
      "authorship_tag": "ABX9TyPx6gt8X03STrpdbfGGhex3",
      "include_colab_link": true
    },
    "kernelspec": {
      "name": "python3",
      "display_name": "Python 3"
    },
    "language_info": {
      "name": "python"
    }
  },
  "cells": [
    {
      "cell_type": "markdown",
      "metadata": {
        "id": "view-in-github",
        "colab_type": "text"
      },
      "source": [
        "<a href=\"https://colab.research.google.com/github/DISAMCHARLAPRABHAS/IPL_Visualization/blob/main/apicall.ipynb\" target=\"_parent\"><img src=\"https://colab.research.google.com/assets/colab-badge.svg\" alt=\"Open In Colab\"/></a>"
      ]
    },
    {
      "cell_type": "code",
      "execution_count": 1,
      "metadata": {
        "id": "aIpIE8zFrgG_"
      },
      "outputs": [],
      "source": [
        "import json\n",
        "import requests"
      ]
    },
    {
      "cell_type": "code",
      "source": [
        "#movie_name=int(input(\"Enter the movie name:\"))\n",
        "\n",
        "api_url=\"https://imdb236.p.rapidapi.com/api/imdb/tt0816692/tmdb-id\"\n",
        "headers={\n",
        "      \"x-rapidapi-host\": \"imdb236.p.rapidapi.com\",\n",
        "    \"x-rapidapi-key\": \"63da5846sk5evcmshean038afxswc7a465wf2bdp1rew308b232jsnda6b54f7678e83\" #apikey wrong here\n",
        " }\n",
        "res=requests.get(api_url,headers=headers)\n",
        "data=res.json()\n",
        "print(data)"
      ],
      "metadata": {
        "colab": {
          "base_uri": "https://localhost:8080/"
        },
        "id": "WA9wST9etMtX",
        "outputId": "33f91582-b6bd-4069-c35f-dab17c3c9d26"
      },
      "execution_count": 4,
      "outputs": [
        {
          "output_type": "stream",
          "name": "stdout",
          "text": [
            "{'message': 'You are not subscribed to this API.'}\n"
          ]
        }
      ]
    },
    {
      "cell_type": "code",
      "source": [],
      "metadata": {
        "id": "GKuW10b_zDCf"
      },
      "execution_count": null,
      "outputs": []
    },
    {
      "cell_type": "code",
      "source": [
        "\n",
        "https://newsapi.org/v2/top-headlines?country=us&category=business&apiKey=b3059c7c11b64f2fb22537dbe28e6db8"
      ],
      "metadata": {
        "id": "FHfI6acVuFOq"
      },
      "execution_count": null,
      "outputs": []
    },
    {
      "cell_type": "code",
      "source": [
        "#country=input(\"Enter the country name:\")\n",
        "#category=input(\"Enter the category:\")\n",
        "import pandas as pd\n",
        "\n",
        "api_url=f\"https://newsapi.org/v2/top-headlines?\"\n",
        "params={\n",
        "    'country':\"us\",\n",
        "    'category':\"business\",\n",
        "    'apikey':\"b3059c7c11b64f2fb22537dbe28e6db8\"\n",
        "\n",
        "}\n",
        "response=requests.get(api_url, params=params)\n",
        "data=response.json()\n",
        "#print(data)\n",
        "with open(csv_file, mode=\"w\", newline=\"\") as  file:\n",
        "  writer=csv.writer(file)\n",
        "\n",
        "\n",
        "pretty_data=json.dumps(data,indent=4)\n",
        "#print(pretty_data)\n",
        "for index, article in enumerate(data['articles']):\n",
        "  author=article['author']\n",
        "  #name=article['source']['name']\n",
        "  title=article['title']\n",
        "  print(f\"{index}: {author}: {title}\")\n",
        ""
      ],
      "metadata": {
        "colab": {
          "base_uri": "https://localhost:8080/"
        },
        "id": "FThzed_gyoQu",
        "outputId": "87df3cbe-bbab-4888-9650-cae1d22b6268"
      },
      "execution_count": 42,
      "outputs": [
        {
          "output_type": "stream",
          "name": "stdout",
          "text": [
            "0: WSJ: Stock Market Today: Dow Gains; Trump Considers Naming New Fed Chair Early — Live Updates - WSJ\n",
            "1: Evelyn Cheng: China's Xiaomi undercuts Tesla with yet another cheaper car - CNBC\n",
            "2: Barron's: Nvidia Stock Keeps Rallying After Hitting New High. Why Shares Can Keep Rising. - Barron's\n",
            "3: Joe Wallace, Caitlin McCabe: Ex-Barclays CEO Jes Staley Loses Appeal Over Jeffrey Epstein Ban - WSJ\n",
            "4: WSJ: Exclusive | Trump Goes to Bat for Big Oil on Climate Rules in EU Trade Talks - WSJ\n",
            "5: None: Gross Domestic Product, 1st Quarter 2025 (Third Estimate), GDP by Industry, and Corporate Profits (Revised) - U.S. Bureau of Economic Analysis (BEA) (.gov)\n",
            "6: None: BBC launches paywall in US for website and app - BBC\n",
            "7: Brody Ford, Emily Chang: Salesforce CEO Says 30% of Internal Work Is Being Handled by AI - Bloomberg\n",
            "8: None: Dow Jones Futures Rise, Micron Climbs On Earnings After Nvidia Hits Highs, Tesla Robotaxi Rally Round-Trips - Investor's Business Daily\n",
            "9: Stan Schroeder: Tesla's Robotaxis keep screwing up. There's now a list of incidents. - Mashable\n",
            "10: Pete Syme, Joshua Nelken-Zitser: Private jets are starting to flood into Venice as celebrities and business titans arrive for Jeff Bezos' wedding - Business Insider\n",
            "11: ABC News - Breaking News, Latest News and Videos: CDC vaccine advisory panel to study child immunization schedule, recommends RSV shot for babies - ABC News - Breaking News, Latest News and Videos\n",
            "12: Brian Evans, Sean Conlon: Stock futures tick higher as S&P 500 nears record high: Live updates - CNBC\n",
            "13: None: College graduates face toughest job market in more than a decade as hiring slows - AP News\n",
            "14: Shadia Nasralla: Shell says it is not considering buying BP, UK rules ban bid for 6 months - Yahoo Finance\n",
            "15: Jill Goldsmith, Ted Johnson: Mediator In Trump’s CBS Lawsuit Proposes $20 Million Settlement – Report - Deadline\n",
            "16: WSJ: Micron Technology Profit Soars as AI Boom Boosts Sales - WSJ\n",
            "17: Samantha Delouya: Homebuyers could soon use crypto to help get a mortgage under new Trump admin plan - CNN\n",
            "18: See full bio: Trump Phone Site Drops Its 'Built in US' Claim. Here's All We Know About the $499 Phone - CNET\n"
          ]
        }
      ]
    },
    {
      "cell_type": "code",
      "source": [
        "print(pretty_data)"
      ],
      "metadata": {
        "colab": {
          "base_uri": "https://localhost:8080/"
        },
        "id": "2cn6AiapzZtF",
        "outputId": "3c2463a8-66a6-4fd5-b62e-dc77f0014c2a"
      },
      "execution_count": 18,
      "outputs": [
        {
          "output_type": "stream",
          "name": "stdout",
          "text": [
            "{\n",
            "    \"status\": \"ok\",\n",
            "    \"totalResults\": 37,\n",
            "    \"articles\": [\n",
            "        {\n",
            "            \"source\": {\n",
            "                \"id\": null,\n",
            "                \"name\": \"CNBC\"\n",
            "            },\n",
            "            \"author\": \"Jessica Golden\",\n",
            "            \"title\": \"PayPal teams up with the Big Ten and Big 12 to enable payments to student-athletes - CNBC\",\n",
            "            \"description\": \"A new partnership between the Big Ten and Big 12 conferences and PayPal will allow student-athletes to receive their compensation via the fintech company.\",\n",
            "            \"url\": \"https://www.cnbc.com/2025/06/26/paypal-partners-with-big-ten-big-12-on-student-athlete-payments.html\",\n",
            "            \"urlToImage\": \"https://image.cnbcfm.com/api/v1/image/108164017-1750872408044-gettyimages-2205470784-ajt_4043ed_fs9godvp.jpeg?v=1750872435&w=1920&h=1080\",\n",
            "            \"publishedAt\": \"2025-06-26T11:55:46Z\",\n",
            "            \"content\": \"Global payment company PayPal announced on Thursday that it has inked a deal with the Big Ten and Big 12 conferences to allow student-athletes to receive compensation through the fintech company's pl\\u2026 [+1966 chars]\"\n",
            "        },\n",
            "        {\n",
            "            \"source\": {\n",
            "                \"id\": null,\n",
            "                \"name\": \"CNBC\"\n",
            "            },\n",
            "            \"author\": \"Yun Li\",\n",
            "            \"title\": \"How the stock market made it back to a new record \\u2014 even with so much still to worry about - CNBC\",\n",
            "            \"description\": \"The wall of worry has been crumbling with trade deals in motion and the economy remaining in solid shape.\",\n",
            "            \"url\": \"https://www.cnbc.com/2025/06/26/how-the-stock-market-made-it-back-to-a-new-record-even-with-so-much-still-to-worry-about.html\",\n",
            "            \"urlToImage\": \"https://image.cnbcfm.com/api/v1/image/108162818-1750940168159-108162818-17507108802025-06-23t203036z_2089820284_rc2k8fafmr2q_rtrmadp_0_usa-stocks.jpg?v=1750940174&w=1920&h=1080\",\n",
            "            \"publishedAt\": \"2025-06-26T11:34:13Z\",\n",
            "            \"content\": \"An aggressive trade war, Middle East escalation and AI competitions overseas None of 2025's big curveballs managed to spoil the market's epic comeback from the year's lows as stocks stand within reac\\u2026 [+4014 chars]\"\n",
            "        },\n",
            "        {\n",
            "            \"source\": {\n",
            "                \"id\": null,\n",
            "                \"name\": \"MarketWatch\"\n",
            "            },\n",
            "            \"author\": \"Steve Goldstein\",\n",
            "            \"title\": \"JPMorgan has a new way of forecasting the stock market \\u2014 and there\\u2019s a surprising finding - MarketWatch\",\n",
            "            \"description\": \"Good valuation for the S&P 500 turns out to be a bad sign for future returns\",\n",
            "            \"url\": \"https://www.marketwatch.com/story/jpmorgan-has-a-new-way-of-forecasting-the-stock-market-and-theres-a-surprising-finding-41a5643e\",\n",
            "            \"urlToImage\": \"https://images.mktw.net/im-03476077/social\",\n",
            "            \"publishedAt\": \"2025-06-26T10:58:00Z\",\n",
            "            \"content\": \"Steven Goldstein is based in London and responsible for MarketWatch's coverage of financial markets in Europe, with a particular focus on global macro and commodities. Previously, he was Washington b\\u2026 [+121 chars]\"\n",
            "        },\n",
            "        {\n",
            "            \"source\": {\n",
            "                \"id\": null,\n",
            "                \"name\": \"Financial Times\"\n",
            "            },\n",
            "            \"author\": \"Ortenca Aliaj, Martin Arnold\",\n",
            "            \"title\": \"Jes Staley fails to overturn ban over Jeffrey Epstein links - Financial Times\",\n",
            "            \"description\": \"Judge says former Barclays CEO did not fully disclose relationship with convicted sex offender but trims \\u00a31.8mn fine\",\n",
            "            \"url\": \"https://www.ft.com/content/7bf69969-41d8-4685-87d0-9fb551fe1503\",\n",
            "            \"urlToImage\": \"https://www.ft.com/__origami/service/image/v2/images/raw/https%3A%2F%2Fd1e00ek4ebabms.cloudfront.net%2Fproduction%2F6a29cb71-923b-4225-8d43-36c2e2144baf.jpg?source=next-barrier-page\",\n",
            "            \"publishedAt\": \"2025-06-26T10:49:49Z\",\n",
            "            \"content\": \"Complete digital access to quality analysis and expert insights, complemented with our award-winning Weekend Print edition.\\r\\n<ul><li></li>Everything in Print<li></li>Weekday Print Edition<li></li>FT \\u2026 [+202 chars]\"\n",
            "        },\n",
            "        {\n",
            "            \"source\": {\n",
            "                \"id\": \"the-wall-street-journal\",\n",
            "                \"name\": \"The Wall Street Journal\"\n",
            "            },\n",
            "            \"author\": \"WSJ\",\n",
            "            \"title\": \"Exclusive | China Is Still Choking Exports of Rare Earths Despite Pact With U.S. - WSJ\",\n",
            "            \"description\": null,\n",
            "            \"url\": \"https://www.wsj.com/world/china/china-rare-earths-exports-2fd0dab4\",\n",
            "            \"urlToImage\": null,\n",
            "            \"publishedAt\": \"2025-06-26T09:30:00Z\",\n",
            "            \"content\": null\n",
            "        },\n",
            "        {\n",
            "            \"source\": {\n",
            "                \"id\": null,\n",
            "                \"name\": \"CNBC\"\n",
            "            },\n",
            "            \"author\": \"Arjun Kharpal\",\n",
            "            \"title\": \"Trump Organization scraps 'made in the USA' tag for its gold T1 smartphone - CNBC\",\n",
            "            \"description\": \"The Trump Organization has removed a reference to the recently-announced T1 smartphone being made in America.\",\n",
            "            \"url\": \"https://www.cnbc.com/2025/06/26/trump-phone-website-removes-made-in-the-usa-tag-for-the-device.html\",\n",
            "            \"urlToImage\": \"https://image.cnbcfm.com/api/v1/image/108160250-1750156090784-gettyimages-2211177541-AFP_43EV4JB.jpeg?v=1750926016&w=1920&h=1080\",\n",
            "            \"publishedAt\": \"2025-06-26T09:26:46Z\",\n",
            "            \"content\": \"The Trump Organization scrapped a reference that its recently revealed smartphone will be made in the U.S., amid doubts that such a device can be manufactured on American shores at its price tag.\\r\\nA \\u2026 [+2232 chars]\"\n",
            "        },\n",
            "        {\n",
            "            \"source\": {\n",
            "                \"id\": null,\n",
            "                \"name\": \"BBC News\"\n",
            "            },\n",
            "            \"author\": null,\n",
            "            \"title\": \"Why your old mobile phone may be polluting Thailand - BBC\",\n",
            "            \"description\": \"The Asian nation is importing thousands of tonnes of electronic waste per year, despite a ban.\",\n",
            "            \"url\": \"https://www.bbc.com/news/articles/cy9x4gpjdj2o\",\n",
            "            \"urlToImage\": \"https://ichef.bbci.co.uk/news/1024/branded_news/fe0f/live/48740370-4cf0-11f0-9604-9d8ffb525450.jpg\",\n",
            "            \"publishedAt\": \"2025-06-26T06:43:54Z\",\n",
            "            \"content\": \"Gideon LongReporting from\\r\\nChon Buri, Thailand\\r\\nThe Thai government is sending out inspectors to raid unlicenced recycling facilities\\r\\nAt an industrial site in eastern Thailand, Thitipas Choddaechach\\u2026 [+5021 chars]\"\n",
            "        },\n",
            "        {\n",
            "            \"source\": {\n",
            "                \"id\": null,\n",
            "                \"name\": \"TheStreet\"\n",
            "            },\n",
            "            \"author\": \"Moz Farooque\",\n",
            "            \"title\": \"Veteran analyst drops bold new call on Nvidia stock - Yahoo Finance\",\n",
            "            \"description\": \"Nvidia\\u2019s momentum may just be warming up.\",\n",
            "            \"url\": \"https://www.thestreet.com/investing/veteran-analyst-drops-bold-new-call-on-nvidia-stock-\",\n",
            "            \"urlToImage\": \"https://media.zenfs.com/en/thestreet_881/1db9718e9951296b28f343a35813aa9b\",\n",
            "            \"publishedAt\": \"2025-06-26T03:38:50Z\",\n",
            "            \"content\": \"Veteran analyst drops bold new call on Nvidia stock originally appeared on TheStreet.\\r\\nYou cant talk about artificial intelligence without running into Nvidia\\u00a0 (NVDA) .\\r\\nIts wild how a gaming chipmak\\u2026 [+4099 chars]\"\n",
            "        },\n",
            "        {\n",
            "            \"source\": {\n",
            "                \"id\": null,\n",
            "                \"name\": \"Deadline\"\n",
            "            },\n",
            "            \"author\": \"Jill Goldsmith, Ted Johnson\",\n",
            "            \"title\": \"Mediator In Trump\\u2019s CBS Lawsuit Proposes $20 Million Settlement \\u2013 Report - Deadline\",\n",
            "            \"description\": \"The mediator in President Donald Trump's lawsuit against CBS and '60 Minutes' has proposed a settlement worth $20 million, according to a WSJ report.\",\n",
            "            \"url\": \"http://deadline.com/2025/06/mediator-donald-trump-cbs-lawsuit-proposes-new-settlement-wsj-1236442886/\",\n",
            "            \"urlToImage\": \"https://deadline.com/wp-content/uploads/2025/05/Donald-Trump-60-Minutes.jpg?w=1000\",\n",
            "            \"publishedAt\": \"2025-06-26T00:06:00Z\",\n",
            "            \"content\": \"The mediator in President Donald Trump\\u2018s lawsuit against CBS and 60 Minutes has proposed a settlement worth $20 million, according to a report in the Wall Street Journal, just days after court docume\\u2026 [+2468 chars]\"\n",
            "        },\n",
            "        {\n",
            "            \"source\": {\n",
            "                \"id\": \"the-wall-street-journal\",\n",
            "                \"name\": \"The Wall Street Journal\"\n",
            "            },\n",
            "            \"author\": \"WSJ\",\n",
            "            \"title\": \"Exclusive | Trump Considers Naming Next Fed Chair Early in Bid to Undermine Powell - WSJ\",\n",
            "            \"description\": null,\n",
            "            \"url\": \"https://www.wsj.com/economy/central-banking/trump-considers-naming-next-fed-chair-early-in-bid-to-undermine-powell-d3edcb9c\",\n",
            "            \"urlToImage\": null,\n",
            "            \"publishedAt\": \"2025-06-25T23:00:00Z\",\n",
            "            \"content\": null\n",
            "        },\n",
            "        {\n",
            "            \"source\": {\n",
            "                \"id\": \"associated-press\",\n",
            "                \"name\": \"Associated Press\"\n",
            "            },\n",
            "            \"author\": null,\n",
            "            \"title\": \"Fannie Mae, Freddie Mac ordered to consider crypto as an asset when buying mortgages - AP News\",\n",
            "            \"description\": \"The head of the federal government agency that oversees Fannie Mae and Freddie Mac wants the mortgage giants to consider accepting a homebuyer\\u2019s cryptocurrency holdings in their criteria for buying mortgages from banks. William Pulte, director of the Federal \\u2026\",\n",
            "            \"url\": \"https://apnews.com/article/mortgages-crypto-fannie-mae-freddie-mac-housing-285fad5490a59c3476f7908f444e9fe9\",\n",
            "            \"urlToImage\": \"https://dims.apnews.com/dims4/default/d41f562/2147483647/strip/true/crop/5167x2906+0+269/resize/1440x810!/quality/90/?url=https%3A%2F%2Fassets.apnews.com%2Ffe%2F9a%2F77e956818352dbdf4714ce9894f8%2Fbd6b00b033c84b9abbe04729bf85109d\",\n",
            "            \"publishedAt\": \"2025-06-25T22:20:00Z\",\n",
            "            \"content\": \"The head of the federal government agency that oversees Fannie Mae and Freddie Mac wants the mortgage giants to consider accepting a homebuyers cryptocurrency holdings in their criteria for buying mo\\u2026 [+3484 chars]\"\n",
            "        },\n",
            "        {\n",
            "            \"source\": {\n",
            "                \"id\": \"associated-press\",\n",
            "                \"name\": \"Associated Press\"\n",
            "            },\n",
            "            \"author\": null,\n",
            "            \"title\": \"US stocks hang near their record as Wall Street takes a breath following two big days - AP News\",\n",
            "            \"description\": \"U.S. stocks hung near their all-time high as financial markets caught a breath following two big days bolstered by hopes that the Israel-Iran war will not disrupt the global flow of crude oil. The S&P 500 barely budged on Wednesday and is sitting just 0.8% be\\u2026\",\n",
            "            \"url\": \"https://apnews.com/article/stocks-markets-oil-powell-inflation-tariffs-80068c5388469b83648e478cdccf2f80\",\n",
            "            \"urlToImage\": \"https://dims.apnews.com/dims4/default/93cbc83/2147483647/strip/true/crop/4928x2772+0+257/resize/1440x810!/quality/90/?url=https%3A%2F%2Fassets.apnews.com%2F26%2F27%2Fec92387d6f5e66c95aff1e5369b7%2Fc914804875c0486f8d6fa1b96ba8f264\",\n",
            "            \"publishedAt\": \"2025-06-25T20:51:00Z\",\n",
            "            \"content\": \"NEW YORK (AP) U.S. stocks hung near their all-time high on Wednesday as financial markets caught a breath following two big days bolstered by hopes that the Israel-Iran war will not disrupt the globa\\u2026 [+3632 chars]\"\n",
            "        },\n",
            "        {\n",
            "            \"source\": {\n",
            "                \"id\": null,\n",
            "                \"name\": \"Barron's\"\n",
            "            },\n",
            "            \"author\": \"Barron's\",\n",
            "            \"title\": \"Micron Earnings Easily Beat Estimates. The Stock Is Rising. - Barron's\",\n",
            "            \"description\": null,\n",
            "            \"url\": \"https://www.barrons.com/articles/micron-earnings-stock-price-492eaf92\",\n",
            "            \"urlToImage\": null,\n",
            "            \"publishedAt\": \"2025-06-25T20:49:00Z\",\n",
            "            \"content\": null\n",
            "        },\n",
            "        {\n",
            "            \"source\": {\n",
            "                \"id\": \"ars-technica\",\n",
            "                \"name\": \"Ars Technica\"\n",
            "            },\n",
            "            \"author\": \"Ashley Belanger\",\n",
            "            \"title\": \"Is DOGE doomed to fail? Some experts are ready to call it. - Ars Technica\",\n",
            "            \"description\": \"Trump wants $45M to continue DOGE\\u2019s work. Critics warn costs already too high.\",\n",
            "            \"url\": \"https://arstechnica.com/tech-policy/2025/06/is-doge-doomed-to-fail-some-experts-are-ready-to-call-it/\",\n",
            "            \"urlToImage\": \"https://cdn.arstechnica.net/wp-content/uploads/2025/06/GettyImages-2200068751-1152x648-1750879720.jpg\",\n",
            "            \"publishedAt\": \"2025-06-25T20:40:12Z\",\n",
            "            \"content\": null\n",
            "        },\n",
            "        {\n",
            "            \"source\": {\n",
            "                \"id\": null,\n",
            "                \"name\": \"Investor's Business Daily\"\n",
            "            },\n",
            "            \"author\": \"ALLISON GATLIN, Investor's Business Daily\",\n",
            "            \"title\": \"The Other Shoe Drops For Sarepta. And So Does Its Stock. - Investor's Business Daily\",\n",
            "            \"description\": \"Shares were under pressure again Wednesday, deepening the 84% loss for the year, as the FDA planned the next steps for Elevidys.\",\n",
            "            \"url\": \"https://www.investors.com/news/technology/sarepta-stock-elevidys-deaths-fda-investigation/\",\n",
            "            \"urlToImage\": \"https://www.investors.com/wp-content/uploads/2024/06/Stock-Sarepta-appweb-01-shutt.jpg\",\n",
            "            \"publishedAt\": \"2025-06-25T20:20:00Z\",\n",
            "            \"content\": \"Sarepta stock dropped again Wednesday extending a steep dive this year after the Food and Drug Administration announced that it's investigating the deaths of two patients who received Sarepta Therape\\u2026 [+2699 chars]\"\n",
            "        },\n",
            "        {\n",
            "            \"source\": {\n",
            "                \"id\": null,\n",
            "                \"name\": \"Investor's Business Daily\"\n",
            "            },\n",
            "            \"author\": null,\n",
            "            \"title\": \"BP Stock Takes Off On Possibility Of Largest Deal Since The Exxon Mobil Merger - Investor's Business Daily\",\n",
            "            \"description\": \"BP stock soared on reports that it is in discussion with Shell for the biggest industry merger in more than two decades.\",\n",
            "            \"url\": \"https://www.investors.com/news/bp-stock-takes-off-on-possibility-largest-deal-since-exxon-mobil-merger/\",\n",
            "            \"urlToImage\": \"https://www.investors.com/wp-content/uploads/2022/07/Stock-GasPrices-Shell-shutt.jpg\",\n",
            "            \"publishedAt\": \"2025-06-25T20:14:00Z\",\n",
            "            \"content\": \"Information in Investors Business Daily is for informational and educational purposes only and should not be construed as an offer, recommendation, solicitation, or rating to buy or sell securities. \\u2026 [+1064 chars]\"\n",
            "        }\n",
            "    ]\n",
            "}\n"
          ]
        }
      ]
    },
    {
      "cell_type": "code",
      "source": [],
      "metadata": {
        "id": "KaFRJYSa6j7a"
      },
      "execution_count": null,
      "outputs": []
    },
    {
      "cell_type": "code",
      "source": [],
      "metadata": {
        "id": "9ulGyNum_R2o"
      },
      "execution_count": null,
      "outputs": []
    }
  ]
}